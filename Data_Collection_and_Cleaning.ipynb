{
  "nbformat": 4,
  "nbformat_minor": 0,
  "metadata": {
    "colab": {
      "name": "Data Cleaning",
      "provenance": [],
      "collapsed_sections": [],
      "toc_visible": true,
      "include_colab_link": true
    },
    "kernelspec": {
      "name": "python3",
      "display_name": "Python 3"
    }
  },
  "cells": [
    {
      "cell_type": "markdown",
      "metadata": {
        "id": "view-in-github",
        "colab_type": "text"
      },
      "source": [
        "<a href=\"https://colab.research.google.com/github/GenghisKhandybar/Movie-Data-Analysis/blob/main/Data_Cleaning.ipynb\" target=\"_parent\"><img src=\"https://colab.research.google.com/assets/colab-badge.svg\" alt=\"Open In Colab\"/></a>"
      ]
    },
    {
      "cell_type": "code",
      "metadata": {
        "id": "EjLx-eyk-YFG"
      },
      "source": [
        "import requests\r\n",
        "import json\r\n",
        "import time\r\n",
        "import pandas as pd\r\n",
        "from pandas.io.json import json_normalize"
      ],
      "execution_count": null,
      "outputs": []
    },
    {
      "cell_type": "code",
      "metadata": {
        "id": "yn0NLh1-5DYn"
      },
      "source": [
        "movies = []\r\n",
        "\r\n",
        "# For the first n movies\r\n",
        "for i in range(5000):\r\n",
        "\r\n",
        "  # Create a list of those n movies\r\n",
        "  response = requests.get(\"https://api.themoviedb.org/3/movie/\" + str(i) + \"?api_key=bb05b1937aaac2e718a24f9c1b42d2fb\")\r\n",
        "  movies += [response.json()]\r\n",
        "  time.sleep(0.5)"
      ],
      "execution_count": null,
      "outputs": []
    },
    {
      "cell_type": "code",
      "metadata": {
        "id": "LAcXRCRm5MDD",
        "colab": {
          "base_uri": "https://localhost:8080/"
        },
        "outputId": "94cdf014-62dd-4e81-9b90-70e2a44bbbc2"
      },
      "source": [
        "# Create a dataframe from those movies\r\n",
        "data_movies = json_normalize(movies)\r\n",
        "\r\n",
        "# Remove any bad requests from the API\r\n",
        "df_movies = data_movies[data_movies[\"success\"] != False]\r\n",
        "\r\n",
        "# Remove some unnecessary columns\r\n",
        "df_movies.drop(axis=1, columns = [\"success\", \"status_code\", \"status_message\"], inplace=True)\r\n",
        "# Reset the index\r\n",
        "df_movies.reset_index(inplace=True)"
      ],
      "execution_count": null,
      "outputs": [
        {
          "output_type": "stream",
          "text": [
            "/usr/local/lib/python3.7/dist-packages/ipykernel_launcher.py:2: FutureWarning: pandas.io.json.json_normalize is deprecated, use pandas.json_normalize instead\n",
            "  \n",
            "/usr/local/lib/python3.7/dist-packages/pandas/core/frame.py:4174: SettingWithCopyWarning: \n",
            "A value is trying to be set on a copy of a slice from a DataFrame\n",
            "\n",
            "See the caveats in the documentation: https://pandas.pydata.org/pandas-docs/stable/user_guide/indexing.html#returning-a-view-versus-a-copy\n",
            "  errors=errors,\n"
          ],
          "name": "stderr"
        }
      ]
    },
    {
      "cell_type": "code",
      "metadata": {
        "id": "iS5P88FfXORY",
        "colab": {
          "base_uri": "https://localhost:8080/"
        },
        "outputId": "6609effd-7e04-4c0a-d37c-25b36fdd85b7"
      },
      "source": [
        "# Create a function to map genre JSON to a more accessible data format\r\n",
        "def genre_mapper(response):\r\n",
        "  genre_list = []\r\n",
        "  for i in range(len(response)):\r\n",
        "    genre_list += [response[i]['name']]\r\n",
        "  return genre_list\r\n",
        "\r\n",
        "# Map genres to accessible format\r\n",
        "df_movies[\"genres\"] = df_movies[\"genres\"].map(genre_mapper)"
      ],
      "execution_count": null,
      "outputs": [
        {
          "output_type": "stream",
          "text": [
            "/usr/local/lib/python3.7/dist-packages/ipykernel_launcher.py:9: SettingWithCopyWarning: \n",
            "A value is trying to be set on a copy of a slice from a DataFrame.\n",
            "Try using .loc[row_indexer,col_indexer] = value instead\n",
            "\n",
            "See the caveats in the documentation: https://pandas.pydata.org/pandas-docs/stable/user_guide/indexing.html#returning-a-view-versus-a-copy\n",
            "  if __name__ == '__main__':\n"
          ],
          "name": "stderr"
        }
      ]
    },
    {
      "cell_type": "code",
      "metadata": {
        "id": "Bqu3B8Sw5rir"
      },
      "source": [
        "# Create a dataframe of the ratings from imdb\r\n",
        "df_ratings = pd.read_csv(\"imdb_ratings.txt\", sep=\"\\t\")"
      ],
      "execution_count": null,
      "outputs": []
    },
    {
      "cell_type": "code",
      "metadata": {
        "id": "mEp55qAR5sDe"
      },
      "source": [
        "# Create a dataframe of people from imdb\r\n",
        "df_people = pd.read_csv(\"imdb_names.txt\", sep=\"\\t\")\r\n",
        "\r\n",
        "# Keep only necessary columns\r\n",
        "df_people = df_people[[\"nconst\", \"primaryName\"]]"
      ],
      "execution_count": null,
      "outputs": []
    },
    {
      "cell_type": "code",
      "metadata": {
        "id": "6ibGcW6P5uWp"
      },
      "source": [
        "# Create a dataframe of the crew from imdb\r\n",
        "df_crew = pd.read_csv(\"imdb_crews.txt\", sep=\"\\t\")\r\n",
        "\r\n",
        "# Drop unnecessary columns\r\n",
        "df_crew.drop(axis=1, columns=[\"writers\"], inplace=True)"
      ],
      "execution_count": null,
      "outputs": []
    },
    {
      "cell_type": "code",
      "metadata": {
        "id": "zdeX67WA581S"
      },
      "source": [
        "# Merge datasets to get a list of directors for each movie\r\n",
        "data_crew_names = df_crew.merge(df_people, left_on=\"directors\", right_on=\"nconst\")\r\n",
        "data_crew_names.rename(columns={\"primaryName\":\"director\"}, inplace=True)\r\n",
        "data_crew_names.drop(axis=1, columns=[\"directors\", \"nconst\"], inplace=True)"
      ],
      "execution_count": null,
      "outputs": []
    },
    {
      "cell_type": "code",
      "metadata": {
        "id": "JE4nSL576aVm"
      },
      "source": [
        "# Create a dataset where we merge the data obtained from the API with the ratings from IMDB\r\n",
        "df_combined = df_movies.merge(df_ratings, left_on=\"imdb_id\", right_on=\"tconst\")"
      ],
      "execution_count": null,
      "outputs": []
    },
    {
      "cell_type": "code",
      "metadata": {
        "id": "00OI2QaI6joL"
      },
      "source": [
        "# Create the final dataset by merging directors with movies and ratings\r\n",
        "df_movies = df_combined.merge(data_crew_names, on=\"tconst\")\r\n",
        "\r\n",
        "# Remove all unnecessary columns\r\n",
        "df_movies.drop(axis=1, \r\n",
        "               columns=[\"index\", \"tconst\", \"poster_path\", \"homepage\", \"backdrop_path\", \"vote_average\", \"vote_count\"], inplace=True)"
      ],
      "execution_count": null,
      "outputs": []
    },
    {
      "cell_type": "code",
      "metadata": {
        "id": "qoe66uzeU3H9"
      },
      "source": [
        "#Adding variables for plots\r\n",
        "df_movies[\"ROI\"] = df_movies[\"revenue\"]/df_movies[\"budget\"] \r\n",
        "df_movies[\"language\"] = df_movies[\"original_language\"].map(lambda l: \"English\" if l==\"en\" else \"Not English\")\r\n",
        "\r\n",
        "#Creating dataset for director related plot\r\n",
        "df_director_stats = df_movies[df_movies[\"budget\"]>0].groupby(\"director\").mean().drop(\"Nicolas Winding Refn\")\r\n",
        "df_director_stats[\"movies\"] = df_movies[df_movies[\"budget\"]>0][\"director\"].value_counts()"
      ],
      "execution_count": null,
      "outputs": []
    },
    {
      "cell_type": "code",
      "metadata": {
        "id": "epYuGlvVWHpP",
        "colab": {
          "base_uri": "https://localhost:8080/"
        },
        "outputId": "5b4dd9f8-3a22-4249-cde8-36f289c3ac08"
      },
      "source": [
        "series = df_movies[\"belongs_to_collection.id\"].value_counts().index.tolist() #A list of all the \"series IDs\"\r\n",
        "df_all_series = pd.DataFrame()\r\n",
        "\r\n",
        "for s in series: #For all series that we found one of, we get the listing for every movie in that series.\r\n",
        "  response = requests.get(\"https://api.themoviedb.org/3/collection/\" + str(s) + \"?api_key=bb05b1937aaac2e718a24f9c1b42d2fb&language=en-US\")\r\n",
        "  df_s = json_normalize(response.json()[\"parts\"])\r\n",
        "  df_s[\"collection_order\"] = df_s.index + 1 #So we start with movie number 1 instead of 0\r\n",
        "  df_all_series = df_all_series.append(df_s)"
      ],
      "execution_count": null,
      "outputs": [
        {
          "output_type": "stream",
          "text": [
            "/usr/local/lib/python3.7/dist-packages/ipykernel_launcher.py:6: FutureWarning: pandas.io.json.json_normalize is deprecated, use pandas.json_normalize instead\n",
            "  \n"
          ],
          "name": "stderr"
        }
      ]
    },
    {
      "cell_type": "code",
      "metadata": {
        "id": "rTYimDl8WJLM"
      },
      "source": [
        "df_all_series = df_all_series[df_all_series[\"vote_count\"] > 0].drop([\"video\"], axis=1)\r\n",
        "df_full_series = df_all_series.merge(df_movies, on=\"id\", how=\"right\") \r\n",
        "#Right merge because we need all the movies with no series, but can't use series movies without the data from df_movies.\r\n",
        "df_full_series[\"collection_order\"] = df_full_series[\"collection_order\"].fillna(0) #Standalone movies are considered 0 in series.\r\n",
        "\r\n",
        "df_full_series[\"ROI\"] = df_full_series[\"revenue\"]/df_full_series[\"budget\"]\r\n",
        "df_full_series[\"made_even\"] = df_full_series[\"ROI\"].apply(lambda x: \"Profitable\" if x>1 else \"Unprofitable\")\r\n",
        "df_full_series[\"Standalone\"]  = df_full_series[\"collection_order\"].map(lambda x: \"Standalone\" if x==0 else \"In a Series\")\r\n",
        "df_full_series = df_full_series[df_full_series[\"budget\"]>1000] \r\n",
        "#0 budget and very small budget films would mess up the presentation of data, and are most likely wrong as making a movie is expensive."
      ],
      "execution_count": null,
      "outputs": []
    },
    {
      "cell_type": "code",
      "metadata": {
        "id": "vQaBnhfK9Cs4",
        "colab": {
          "base_uri": "https://localhost:8080/",
          "height": 17
        },
        "outputId": "03639a8a-20db-4057-c03a-077f4ae00120"
      },
      "source": [
        "from google.colab import files\r\n",
        "df_full_series.to_csv('df_full_series.csv')\r\n",
        "df_director_stats.to_csv('df_directors.csv')\r\n",
        "df_movies.to_csv('df_movies.csv')\r\n",
        "\r\n",
        "files.download(\"df_full_series.csv\")\r\n",
        "files.download('df_directors.csv')\r\n",
        "files.download('df_movies.csv')"
      ],
      "execution_count": null,
      "outputs": [
        {
          "output_type": "display_data",
          "data": {
            "application/javascript": [
              "\n",
              "    async function download(id, filename, size) {\n",
              "      if (!google.colab.kernel.accessAllowed) {\n",
              "        return;\n",
              "      }\n",
              "      const div = document.createElement('div');\n",
              "      const label = document.createElement('label');\n",
              "      label.textContent = `Downloading \"${filename}\": `;\n",
              "      div.appendChild(label);\n",
              "      const progress = document.createElement('progress');\n",
              "      progress.max = size;\n",
              "      div.appendChild(progress);\n",
              "      document.body.appendChild(div);\n",
              "\n",
              "      const buffers = [];\n",
              "      let downloaded = 0;\n",
              "\n",
              "      const channel = await google.colab.kernel.comms.open(id);\n",
              "      // Send a message to notify the kernel that we're ready.\n",
              "      channel.send({})\n",
              "\n",
              "      for await (const message of channel.messages) {\n",
              "        // Send a message to notify the kernel that we're ready.\n",
              "        channel.send({})\n",
              "        if (message.buffers) {\n",
              "          for (const buffer of message.buffers) {\n",
              "            buffers.push(buffer);\n",
              "            downloaded += buffer.byteLength;\n",
              "            progress.value = downloaded;\n",
              "          }\n",
              "        }\n",
              "      }\n",
              "      const blob = new Blob(buffers, {type: 'application/binary'});\n",
              "      const a = document.createElement('a');\n",
              "      a.href = window.URL.createObjectURL(blob);\n",
              "      a.download = filename;\n",
              "      div.appendChild(a);\n",
              "      a.click();\n",
              "      div.remove();\n",
              "    }\n",
              "  "
            ],
            "text/plain": [
              "<IPython.core.display.Javascript object>"
            ]
          },
          "metadata": {
            "tags": []
          }
        },
        {
          "output_type": "display_data",
          "data": {
            "application/javascript": [
              "download(\"download_956070e8-3d91-49f7-a2a5-fa9a6f88425f\", \"df_full_series.csv\", 1572658)"
            ],
            "text/plain": [
              "<IPython.core.display.Javascript object>"
            ]
          },
          "metadata": {
            "tags": []
          }
        },
        {
          "output_type": "display_data",
          "data": {
            "application/javascript": [
              "\n",
              "    async function download(id, filename, size) {\n",
              "      if (!google.colab.kernel.accessAllowed) {\n",
              "        return;\n",
              "      }\n",
              "      const div = document.createElement('div');\n",
              "      const label = document.createElement('label');\n",
              "      label.textContent = `Downloading \"${filename}\": `;\n",
              "      div.appendChild(label);\n",
              "      const progress = document.createElement('progress');\n",
              "      progress.max = size;\n",
              "      div.appendChild(progress);\n",
              "      document.body.appendChild(div);\n",
              "\n",
              "      const buffers = [];\n",
              "      let downloaded = 0;\n",
              "\n",
              "      const channel = await google.colab.kernel.comms.open(id);\n",
              "      // Send a message to notify the kernel that we're ready.\n",
              "      channel.send({})\n",
              "\n",
              "      for await (const message of channel.messages) {\n",
              "        // Send a message to notify the kernel that we're ready.\n",
              "        channel.send({})\n",
              "        if (message.buffers) {\n",
              "          for (const buffer of message.buffers) {\n",
              "            buffers.push(buffer);\n",
              "            downloaded += buffer.byteLength;\n",
              "            progress.value = downloaded;\n",
              "          }\n",
              "        }\n",
              "      }\n",
              "      const blob = new Blob(buffers, {type: 'application/binary'});\n",
              "      const a = document.createElement('a');\n",
              "      a.href = window.URL.createObjectURL(blob);\n",
              "      a.download = filename;\n",
              "      div.appendChild(a);\n",
              "      a.click();\n",
              "      div.remove();\n",
              "    }\n",
              "  "
            ],
            "text/plain": [
              "<IPython.core.display.Javascript object>"
            ]
          },
          "metadata": {
            "tags": []
          }
        },
        {
          "output_type": "display_data",
          "data": {
            "application/javascript": [
              "download(\"download_ed5fbbf0-02f5-475c-a7e5-d1a2727c8058\", \"df_directors.csv\", 61978)"
            ],
            "text/plain": [
              "<IPython.core.display.Javascript object>"
            ]
          },
          "metadata": {
            "tags": []
          }
        },
        {
          "output_type": "display_data",
          "data": {
            "application/javascript": [
              "\n",
              "    async function download(id, filename, size) {\n",
              "      if (!google.colab.kernel.accessAllowed) {\n",
              "        return;\n",
              "      }\n",
              "      const div = document.createElement('div');\n",
              "      const label = document.createElement('label');\n",
              "      label.textContent = `Downloading \"${filename}\": `;\n",
              "      div.appendChild(label);\n",
              "      const progress = document.createElement('progress');\n",
              "      progress.max = size;\n",
              "      div.appendChild(progress);\n",
              "      document.body.appendChild(div);\n",
              "\n",
              "      const buffers = [];\n",
              "      let downloaded = 0;\n",
              "\n",
              "      const channel = await google.colab.kernel.comms.open(id);\n",
              "      // Send a message to notify the kernel that we're ready.\n",
              "      channel.send({})\n",
              "\n",
              "      for await (const message of channel.messages) {\n",
              "        // Send a message to notify the kernel that we're ready.\n",
              "        channel.send({})\n",
              "        if (message.buffers) {\n",
              "          for (const buffer of message.buffers) {\n",
              "            buffers.push(buffer);\n",
              "            downloaded += buffer.byteLength;\n",
              "            progress.value = downloaded;\n",
              "          }\n",
              "        }\n",
              "      }\n",
              "      const blob = new Blob(buffers, {type: 'application/binary'});\n",
              "      const a = document.createElement('a');\n",
              "      a.href = window.URL.createObjectURL(blob);\n",
              "      a.download = filename;\n",
              "      div.appendChild(a);\n",
              "      a.click();\n",
              "      div.remove();\n",
              "    }\n",
              "  "
            ],
            "text/plain": [
              "<IPython.core.display.Javascript object>"
            ]
          },
          "metadata": {
            "tags": []
          }
        },
        {
          "output_type": "display_data",
          "data": {
            "application/javascript": [
              "download(\"download_23a9e985-6676-4297-8fa4-2a0d46504934\", \"df_movies.csv\", 2474650)"
            ],
            "text/plain": [
              "<IPython.core.display.Javascript object>"
            ]
          },
          "metadata": {
            "tags": []
          }
        }
      ]
    }
  ]
}
