{
  "nbformat": 4,
  "nbformat_minor": 0,
  "metadata": {
    "colab": {
      "name": "Machine Learning",
      "provenance": [],
      "collapsed_sections": []
    },
    "kernelspec": {
      "name": "python3",
      "display_name": "Python 3"
    }
  },
  "cells": [
    {
      "cell_type": "code",
      "metadata": {
        "id": "KLms7R1lG1vX"
      },
      "source": [
        "import pandas as pd\r\n",
        "from collections import Counter\r\n",
        "import matplotlib.pyplot as plt\r\n",
        "df_movies = pd.read_csv(\"df_movies.csv\")\r\n",
        "\r\n",
        "# Data cleaning required after importing of CSV\r\n",
        "df_movies[\"genres\"] = df_movies[\"genres\"].str.replace(\"[ \\[\\]']\", \"\").str.split(\",\")\r\n",
        "df_movies.dropna(subset=[\"overview\"], inplace=True)\r\n",
        "df_movies.reset_index(inplace=True)"
      ],
      "execution_count": null,
      "outputs": []
    },
    {
      "cell_type": "code",
      "metadata": {
        "colab": {
          "base_uri": "https://localhost:8080/"
        },
        "id": "G9hOkpHtUT0a",
        "outputId": "cd082ab1-fee7-4550-f61d-23a0b0948b65"
      },
      "source": [
        "descriptions = df_movies[\"overview\"]\r\n",
        "descriptions"
      ],
      "execution_count": null,
      "outputs": [
        {
          "output_type": "execute_result",
          "data": {
            "text/plain": [
              "0       Taisto Kasurinen is a Finnish coal miner whose...\n",
              "1       An episode in the life of Nikander, a garbage ...\n",
              "2       While racing to a boxing match, Frank, Mike, J...\n",
              "3       Timo Novotny labels his new project an experim...\n",
              "4       Princess Leia is captured and held hostage by ...\n",
              "                              ...                        \n",
              "2563    Set in 1977, back when sex was safe, pleasure ...\n",
              "2564    A family spends three summer days in a beautif...\n",
              "2565    On the afternoon of July 1, 1981, Los Angeles ...\n",
              "2566    A nurse from the Ukraine searches for a better...\n",
              "2567    Anthony Richmond schemes to get the fortune of...\n",
              "Name: overview, Length: 2568, dtype: object"
            ]
          },
          "metadata": {
            "tags": []
          },
          "execution_count": 72
        }
      ]
    },
    {
      "cell_type": "code",
      "metadata": {
        "id": "M_GPJ3fDaqcc"
      },
      "source": [
        "# Import necessary packages for prediction\r\n",
        "from sklearn.metrics.pairwise import cosine_similarity, cosine_distances\r\n",
        "from sklearn.feature_extraction.text import TfidfVectorizer, CountVectorizer\r\n",
        "\r\n",
        "# Defining a function to predict the genre given a description and many other parameters\r\n",
        "def find_genre(desc, vectorization, ngrams, num_neighbors, original):\r\n",
        "\r\n",
        "  # Use the vectorization method of choice\r\n",
        "  if vectorization == \"count\":\r\n",
        "    vec = CountVectorizer(ngram_range=ngrams)\r\n",
        "  elif vectorization == \"tfidf\":\r\n",
        "    vec = TfidfVectorizer(norm=None, ngram_range=ngrams)\r\n",
        "  else:\r\n",
        "    return print(\"Invalid Vectorization\")\r\n",
        "\r\n",
        "  # Fit the vocabulary of the model\r\n",
        "  vec.fit(descriptions)\r\n",
        "\r\n",
        "  # Produce a sparse matrix of the word frequencies\r\n",
        "  tf_sparse = vec.transform(descriptions)\r\n",
        "\r\n",
        "  # Produce a sparse matrix of the given description\r\n",
        "  desc_tf_sparse = vec.transform(pd.Series(desc))\r\n",
        "\r\n",
        "  # Create a dataframe of the cosine similarities between the description and every other movie\r\n",
        "  cos_sim = pd.DataFrame(cosine_similarity(desc_tf_sparse, tf_sparse)).T.sort_values(by=0, ascending=False)\r\n",
        "\r\n",
        "  # Initialize list\r\n",
        "  index_list = []\r\n",
        "\r\n",
        "  # Grab the n nearest neighbors\r\n",
        "  if original:\r\n",
        "    index_list = cos_sim.iloc[0:num_neighbors - 1].index\r\n",
        "  else:\r\n",
        "    index_list = cos_sim.iloc[1:num_neighbors].index\r\n",
        "\r\n",
        "  # Initialize list\r\n",
        "  genre_list = []\r\n",
        "\r\n",
        "  # For the indexes in the index_list \r\n",
        "  for index in index_list:\r\n",
        "\r\n",
        "    # Add the genres of the movies at that index to the genre list\r\n",
        "    genre_list += df_movies.iloc[index]['genres']\r\n",
        "\r\n",
        "  # Return the most common genre\r\n",
        "  return Counter(genre_list).most_common(1)[0][0]"
      ],
      "execution_count": null,
      "outputs": []
    },
    {
      "cell_type": "code",
      "metadata": {
        "id": "BycPAJAOjNGg"
      },
      "source": [
        "# Define a mapper to produce if the prediction was correct\r\n",
        "def prediction_correct(row):\r\n",
        "  return row.predicted_genre in row.genres"
      ],
      "execution_count": null,
      "outputs": []
    },
    {
      "cell_type": "code",
      "metadata": {
        "id": "qjksEX_-xZ2l"
      },
      "source": [
        "# Define a function to calculate the proportion of genres that were correctly predicted in df_movies\r\n",
        "def get_proportion(vectorization, ngrams, num_neighbors):\r\n",
        "\r\n",
        "  # Initialize list\r\n",
        "  genre_predictions = []\r\n",
        "\r\n",
        "  # For i in the length of df_movies\r\n",
        "  for i in range(df_movies.shape[0]):\r\n",
        "\r\n",
        "    # Find the predicted genre of that movie's description and add it to the genre_predictions list\r\n",
        "    genre_predictions += [find_genre(descriptions[i], vectorization, ngrams, num_neighbors, False)]\r\n",
        "  \r\n",
        "  # Add predicted genre as a column to df_movies\r\n",
        "  df_movies[\"predicted_genre\"] = genre_predictions\r\n",
        "\r\n",
        "  # Check if each movie got a correct prediction or not\r\n",
        "  df_movies[\"prediction_correct\"] = df_movies.apply(prediction_correct, axis=1).astype(int)\r\n",
        "\r\n",
        "  # Return the proportion of movies that got a correct prediction\r\n",
        "  return df_movies[\"prediction_correct\"].mean()"
      ],
      "execution_count": null,
      "outputs": []
    },
    {
      "cell_type": "code",
      "metadata": {
        "id": "ufMZSKiavJhJ"
      },
      "source": [
        "# Define a function to find the prediction correctness for various combinations of vecotrization, ngram range, and num neighbors\r\n",
        "def optimize_model(frequency_list, ngram_list, neighbor_list):\r\n",
        "\r\n",
        "  # Initialize an empty dataframe with these columns\r\n",
        "  df_analysis = pd.DataFrame(columns=[\"Frequency Method\", \"Ngram Range\", \"Number Neighbors\", \"Proportion Correct\"])\r\n",
        "\r\n",
        "  # For each vectorization method you want to test\r\n",
        "  for frequency in frequency_list:\r\n",
        "\r\n",
        "    # For each ngram range you want to test\r\n",
        "    for ngram in ngram_list:\r\n",
        "\r\n",
        "      # For each number of neighbors you want to test\r\n",
        "      for neighbor in neighbor_list:\r\n",
        "\r\n",
        "        # Append a new row corresponding to this model to the dataframe\r\n",
        "        to_append = [frequency, ngram, neighbor, get_proportion(frequency, ngram, neighbor)]\r\n",
        "        a_series = pd.Series(to_append, index = df_analysis.columns)\r\n",
        "        df_analysis = df_analysis.append(a_series, ignore_index=True)\r\n",
        "\r\n",
        "  # Return the dataframe containing all the models of interest\r\n",
        "  return df_analysis"
      ],
      "execution_count": null,
      "outputs": []
    },
    {
      "cell_type": "code",
      "metadata": {
        "id": "NnHrRpHjEu9j"
      },
      "source": [
        "# Create a dataframe that displays the differences in vectorization methods\r\n",
        "df_count = optimize_model([\"tfidf\", \"count\"], [(1, 1), (1, 2)], [9, 10, 11])"
      ],
      "execution_count": null,
      "outputs": []
    },
    {
      "cell_type": "code",
      "metadata": {
        "id": "WdaquQ3JUjUJ"
      },
      "source": [
        "# Create a dataframe that displays the differences in ngram range\r\n",
        "df_ngram = optimize_model([\"tfidf\"], [(1, 1), (1, 2), (1, 3), (2, 2), (2, 3), (3, 3)], [10])"
      ],
      "execution_count": null,
      "outputs": []
    },
    {
      "cell_type": "code",
      "metadata": {
        "id": "mRArR1X3IbKp"
      },
      "source": [
        "# Create a dataframe that displays the differences in number of neighbors\r\n",
        "df_neighbors = optimize_model([\"tfidf\"], [(1, 1)], [5, 6, 7, 8, 9, 10, 11, 12, 13, 14, 15, 16, 17, 18, 19, 20])"
      ],
      "execution_count": null,
      "outputs": []
    },
    {
      "cell_type": "code",
      "metadata": {
        "id": "e7MrYtfRUfr2"
      },
      "source": [
        "# Create a dataframe that displays the overall optimal model\r\n",
        "df_overall = optimize_model([\"tfidf\"], [(1, 1), (1, 2), (1, 3)], [9, 10, 11])"
      ],
      "execution_count": null,
      "outputs": []
    },
    {
      "cell_type": "code",
      "metadata": {
        "id": "HaKfXazSZeN1"
      },
      "source": [
        "from google.colab import files\r\n",
        "\r\n",
        "# Download all the dataframes we just created\r\n",
        "df_overall.to_csv('overall.csv')\r\n",
        "files.download('overall.csv')\r\n",
        "\r\n",
        "df_ngram.to_csv('ngram.csv')\r\n",
        "files.download('ngram.csv')\r\n",
        "\r\n",
        "df_count.to_csv('count.csv')\r\n",
        "files.download('count.csv')\r\n",
        "\r\n",
        "df_neighbors.to_csv('neighbors.csv')\r\n",
        "files.download('neighbors.csv')\r\n"
      ],
      "execution_count": null,
      "outputs": []
    },
    {
      "cell_type": "markdown",
      "metadata": {
        "id": "YScf1ufclIiy"
      },
      "source": [
        "# For Presentation:"
      ]
    },
    {
      "cell_type": "code",
      "metadata": {
        "id": "eEppn-AqlQMG"
      },
      "source": [
        "def find_genre(desc):\r\n",
        "  vec = TfidfVectorizer(norm=None, ngram_range=(1, 1))\r\n",
        "  vec.fit(descriptions)\r\n",
        "  tf_sparse = vec.transform(descriptions)\r\n",
        "  desc_tf_sparse = vec.transform(pd.Series(desc))\r\n",
        "  cos_sim = pd.DataFrame(cosine_similarity(desc_tf_sparse, tf_sparse)).T.sort_values(by=0, ascending=False)\r\n",
        "  index_list = cos_sim.iloc[0:9].index\r\n",
        "  genre_list = []\r\n",
        "  for index in index_list:\r\n",
        "    genre_list += df_movies.iloc[index]['genres']\r\n",
        "  return Counter(genre_list).most_common(1)[0][0]"
      ],
      "execution_count": null,
      "outputs": []
    },
    {
      "cell_type": "markdown",
      "metadata": {
        "id": "I3350P_-qVT1"
      },
      "source": [
        "# Quirky Predictions"
      ]
    },
    {
      "cell_type": "code",
      "metadata": {
        "colab": {
          "base_uri": "https://localhost:8080/",
          "height": 36
        },
        "id": "PWZF6LFilGcV",
        "outputId": "c22f0c9f-bc6a-470a-c247-9e6f3d88d337"
      },
      "source": [
        "find_genre(\"Space odyssey to the stars\")"
      ],
      "execution_count": null,
      "outputs": [
        {
          "output_type": "execute_result",
          "data": {
            "application/vnd.google.colaboratory.intrinsic+json": {
              "type": "string"
            },
            "text/plain": [
              "'ScienceFiction'"
            ]
          },
          "metadata": {
            "tags": []
          },
          "execution_count": 85
        }
      ]
    },
    {
      "cell_type": "code",
      "metadata": {
        "id": "bkmxDFFPlqDG",
        "colab": {
          "base_uri": "https://localhost:8080/",
          "height": 36
        },
        "outputId": "71a0d4fc-9418-44e6-b8c8-1d0bc7030fbd"
      },
      "source": [
        "find_genre(\"A flock of funny flapjacks\")"
      ],
      "execution_count": null,
      "outputs": [
        {
          "output_type": "execute_result",
          "data": {
            "application/vnd.google.colaboratory.intrinsic+json": {
              "type": "string"
            },
            "text/plain": [
              "'Comedy'"
            ]
          },
          "metadata": {
            "tags": []
          },
          "execution_count": 80
        }
      ]
    },
    {
      "cell_type": "code",
      "metadata": {
        "id": "Vcc4cYmJmERB",
        "colab": {
          "base_uri": "https://localhost:8080/",
          "height": 36
        },
        "outputId": "b4097a81-802f-4a82-8d4c-4f8c663f93c0"
      },
      "source": [
        "find_genre(\"The FitnessGram PACER Test is a multistage aerobic capacity test that progressively gets more difficult as it continues.\")"
      ],
      "execution_count": null,
      "outputs": [
        {
          "output_type": "execute_result",
          "data": {
            "application/vnd.google.colaboratory.intrinsic+json": {
              "type": "string"
            },
            "text/plain": [
              "'Drama'"
            ]
          },
          "metadata": {
            "tags": []
          },
          "execution_count": 82
        }
      ]
    }
  ]
}